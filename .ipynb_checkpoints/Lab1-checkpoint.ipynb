{
 "cells": [
  {
   "cell_type": "markdown",
   "metadata": {},
   "source": [
    "# Machine Learning Lab 1\n",
    "## Eric Johnson & Quincy Schurr"
   ]
  },
  {
   "cell_type": "markdown",
   "metadata": {},
   "source": [
    "### Overview\n",
    "\n",
    "The dataset that we will be using for this lab is called Lahman's Baseball Database. The data is comprised of 24 tables that describe a variety of baseball statistics for players from 1871 through the 2015 season. The four main dataset tables are the Master, Batting, Pitching, and Fielding tables. For the analysis we will be using the Master and Batting tables\n",
    "\n",
    "The Master table contains all the demographic data for a player, including their name, playerID, date of birth, hometown, height, and weight. This table originally had 24 features and 19049 rows, for all players in baseball. The requirements for this project say at least 30,000 records, but once the data has been cleaned up and merged it with some of the other tables that we want to draw data from, there will be many more records for each player.\n",
    "\n",
    "The other three main tables include playing statistics for the player for each year that they played including their team. We cleaned up the data a bit by dropping columns that we did not want to analyze as they were not a statistic that all players had, or were unecessary for the study.\n",
    "\n",
    "The purpose of this data set is for fun and for learning. The dataset is made available so that baseball fans can analyze player performance and so that baseball statisticians can view player performance and look for correlations in the player statistics. This is helpful for baseball teams looking to use their budget to acquire the best players available at the cheapest cost.\n",
    "\n",
    "There are a lot of different statistics that we could analyze with this dataset that would draw some interesting conclusions. We would like to analyze the most common hometown in each country represented by players. We would also like to look at how many trades have occured during each season, maybe even by each team to see trends over time. The correlation between batting average and home runs hit would be an interesting statistic as well. The last category we would like to analyze is the average time a player stays in the major league. \n",
    "\n"
   ]
  },
  {
   "cell_type": "markdown",
   "metadata": {},
   "source": [
    "### Data Understanding\n",
    "\n",
    "The following section looks to describe each statistic shown in the merged data set.\n",
    "\n",
    "###### playerID \n",
    "The player ID is representative of all player statistics. It is defined in the Master table and it is what is used to link most of the other tables together. It is unique to each player.\n",
    "###### birthYear, birthMonth, and birthDay\n",
    "These features represent the year, month, and day that the player was born. They are all integers and the data is ordinal.\n",
    "###### birthCountry, birthState, birthCity\n",
    "These features represent the hometown of each player. They provide the city, state, and country each player was born in. These strings are represented with objects in the data frame.\n",
    "##### nameFirst, nameLast\n",
    "Objects representing the name of the player.\n",
    "##### weight, height\n",
    "Floats that represent the height and weight of the player for the season.\n",
    "##### bats, throws\n",
    "Object feature representing with which hand the player bats and throws.\n",
    "##### debut, finalGame\n",
    "The date of each player's Major League Baseball debut and final game.\n",
    "##### yearID\n",
    "Integer value representing the season for which the statistics are for.\n",
    "##### teamID\n",
    "Object that represents which team the player played for and which team their statistics apply to.\n",
    "##### lgID\n",
    "Represents the league in which the team the player played for was a part of. Either the National League represented by NL or American League represented by AL.\n",
    "##### G, AB, R, H, 2B, 3B, HR, RBI, BB, SO\n",
    "These features are all represented with integers. They represent the number of games played in a season, the number of at bat opportunities, the number of runs scores, number of hits, number of doubles, number of triples, number of home runs, number of runs batted in, number of walks, and number of strikeouts throughout the season."
   ]
  },
  {
   "cell_type": "code",
   "execution_count": 2,
   "metadata": {
    "collapsed": false
   },
   "outputs": [],
   "source": [
    "import numpy as mp\n",
    "import pandas as pd\n",
    "import seaborn as sns\n",
    "import plotly.plotly as py\n",
    "\n",
    "import matplotlib.pyplot as plt\n",
    "import warnings\n",
    "warnings.simplefilter('ignore', DeprecationWarning)\n",
    "%matplotlib inline"
   ]
  },
  {
   "cell_type": "code",
   "execution_count": 3,
   "metadata": {
    "collapsed": false
   },
   "outputs": [],
   "source": [
    "master = pd.read_csv('https://raw.githubusercontent.com/chadwickbureau/baseballdatabank/master/core/Master.csv')\n",
    "master.drop(['nameGiven', 'retroID', 'bbrefID', 'deathYear', 'deathMonth', 'deathDay', 'deathCountry', 'deathState', 'deathCity'], axis = 1, inplace=True)"
   ]
  },
  {
   "cell_type": "code",
   "execution_count": 4,
   "metadata": {
    "collapsed": false
   },
   "outputs": [],
   "source": [
    "batting = pd.read_csv('https://raw.githubusercontent.com/chadwickbureau/baseballdatabank/master/core/Batting.csv')\n",
    "batting.drop(['CS', 'IBB', 'HBP', 'SH', 'SF', 'GIDP', 'stint', 'SB'], axis=1, inplace=True)"
   ]
  },
  {
   "cell_type": "markdown",
   "metadata": {},
   "source": [
    "The reasoning behind dropping all values that had a null value/missing value were that many of the statistics should not be influenced by an overwhelming number of records with mean values. The statistics in this data set highlight individual player performance and so filling in missing values with the mean would not be representative of the performance of the player that year. It was better to remove the whole record."
   ]
  },
  {
   "cell_type": "code",
   "execution_count": 5,
   "metadata": {
    "collapsed": false
   },
   "outputs": [],
   "source": [
    "#merge player demographics with batting statistics\n",
    "baseballdata = master.merge(batting)\n",
    "#just to clean up the data a bit, still have 83822 records. \n",
    "baseballdata.dropna(inplace=True)\n",
    "#convert to int b/c birth date shouldnt be float. Also converting Runs, etc b/c all whole numbers\n",
    "floatList = ['birthYear', 'birthMonth', 'birthDay', 'R', 'AB', 'H', '2B', '3B', 'HR', 'RBI', 'BB', 'SO']\n",
    "for x in floatList:\n",
    "    baseballdata[x] = baseballdata[x].astype(int)"
   ]
  },
  {
   "cell_type": "code",
   "execution_count": 6,
   "metadata": {
    "collapsed": false
   },
   "outputs": [],
   "source": [
    "#see where players are from. By Country\n",
    "b_grouped = baseballdata.groupby(by='birthCountry')\n",
    "#print(b_grouped.birthCountry.count())"
   ]
  },
  {
   "cell_type": "code",
   "execution_count": 15,
   "metadata": {
    "collapsed": false
   },
   "outputs": [
    {
     "ename": "AttributeError",
     "evalue": "'Series' object has no attribute 'columns'",
     "output_type": "error",
     "traceback": [
      "\u001b[0;31m---------------------------------------------------------------------------\u001b[0m",
      "\u001b[0;31mAttributeError\u001b[0m                            Traceback (most recent call last)",
      "\u001b[0;32m<ipython-input-15-04391d31133c>\u001b[0m in \u001b[0;36m<module>\u001b[0;34m()\u001b[0m\n\u001b[1;32m      2\u001b[0m \u001b[0mstate_group\u001b[0m \u001b[0;34m=\u001b[0m \u001b[0mstatePlayers\u001b[0m\u001b[0;34m.\u001b[0m\u001b[0mgroupby\u001b[0m\u001b[0;34m(\u001b[0m\u001b[0mby\u001b[0m\u001b[0;34m=\u001b[0m\u001b[0;34m'birthState'\u001b[0m\u001b[0;34m)\u001b[0m\u001b[0;34m\u001b[0m\u001b[0m\n\u001b[1;32m      3\u001b[0m \u001b[0mcounts\u001b[0m \u001b[0;34m=\u001b[0m \u001b[0mstate_group\u001b[0m\u001b[0;34m.\u001b[0m\u001b[0mbirthState\u001b[0m\u001b[0;34m.\u001b[0m\u001b[0mcount\u001b[0m\u001b[0;34m(\u001b[0m\u001b[0;34m)\u001b[0m\u001b[0;34m\u001b[0m\u001b[0m\n\u001b[0;32m----> 4\u001b[0;31m \u001b[0mprint\u001b[0m\u001b[0;34m(\u001b[0m\u001b[0mcounts\u001b[0m\u001b[0;34m.\u001b[0m\u001b[0mcolumns\u001b[0m\u001b[0;34m(\u001b[0m\u001b[0;34m)\u001b[0m\u001b[0;34m)\u001b[0m\u001b[0;34m\u001b[0m\u001b[0m\n\u001b[0m\u001b[1;32m      5\u001b[0m \u001b[0;34m\u001b[0m\u001b[0m\n\u001b[1;32m      6\u001b[0m '''data = [dict (\n",
      "\u001b[0;32m/Users/quincyschurr/anaconda3/lib/python3.5/site-packages/pandas/core/generic.py\u001b[0m in \u001b[0;36m__getattr__\u001b[0;34m(self, name)\u001b[0m\n\u001b[1;32m   2666\u001b[0m         if (name in self._internal_names_set or name in self._metadata or\n\u001b[1;32m   2667\u001b[0m                 name in self._accessors):\n\u001b[0;32m-> 2668\u001b[0;31m             \u001b[0;32mreturn\u001b[0m \u001b[0mobject\u001b[0m\u001b[0;34m.\u001b[0m\u001b[0m__getattribute__\u001b[0m\u001b[0;34m(\u001b[0m\u001b[0mself\u001b[0m\u001b[0;34m,\u001b[0m \u001b[0mname\u001b[0m\u001b[0;34m)\u001b[0m\u001b[0;34m\u001b[0m\u001b[0m\n\u001b[0m\u001b[1;32m   2669\u001b[0m         \u001b[0;32melse\u001b[0m\u001b[0;34m:\u001b[0m\u001b[0;34m\u001b[0m\u001b[0m\n\u001b[1;32m   2670\u001b[0m             \u001b[0;32mif\u001b[0m \u001b[0mname\u001b[0m \u001b[0;32min\u001b[0m \u001b[0mself\u001b[0m\u001b[0;34m.\u001b[0m\u001b[0m_info_axis\u001b[0m\u001b[0;34m:\u001b[0m\u001b[0;34m\u001b[0m\u001b[0m\n",
      "\u001b[0;31mAttributeError\u001b[0m: 'Series' object has no attribute 'columns'"
     ]
    }
   ],
   "source": [
    "statePlayers = baseballdata.where(baseballdata.birthCountry == 'USA')\n",
    "state_group = statePlayers.groupby(by='birthState')\n",
    "counts = state_group.birthState.count()\n",
    "\n",
    "'''data = [dict (\n",
    "        type = 'choropleth',\n",
    "        colorscale = scl,\n",
    "        autocolorscale = False,\n",
    "        locations = counts['birthState'])]'''"
   ]
  },
  {
   "cell_type": "code",
   "execution_count": null,
   "metadata": {
    "collapsed": true
   },
   "outputs": [],
   "source": []
  }
 ],
 "metadata": {
  "anaconda-cloud": {},
  "kernelspec": {
   "display_name": "Python [Root]",
   "language": "python",
   "name": "Python [Root]"
  },
  "language_info": {
   "codemirror_mode": {
    "name": "ipython",
    "version": 3
   },
   "file_extension": ".py",
   "mimetype": "text/x-python",
   "name": "python",
   "nbconvert_exporter": "python",
   "pygments_lexer": "ipython3",
   "version": "3.5.2"
  }
 },
 "nbformat": 4,
 "nbformat_minor": 0
}

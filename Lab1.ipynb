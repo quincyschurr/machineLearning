{
 "cells": [
  {
   "cell_type": "markdown",
   "metadata": {},
   "source": [
    "# Machine Learning Lab 1\n",
    "### Quincy Schurr"
   ]
  },
  {
   "cell_type": "markdown",
   "metadata": {},
   "source": [
    "#### Overview\n",
    "\n",
    "The dataset that I will be using for this lab is called Lahman's Baseball Database. The data is comprised of 24 tables that describe a variety of baseball statistics for players from 1871 through the 2015 season. The four main dataset tables are the Master, Batting, Pitching, and Fielding tables. For my analysis I will be using the Master and Batting tables.\n",
    "\n",
    "The Master table contains all the demographic data for a player, including their name, playerID, date of birth, hometown, height, and weight. This table originally had 24 features and 19049 rows, for all players in baseball. The requirements for this project say at least 30,000 records, but once I have cleaned up the data and merged it with some of the other tables that I want to draw data from, there will be many more records for each player.\n",
    "\n",
    "The other three main tables include playing statistics for the player for each year that they played including their team. I cleaned up the data a bit by dropping columns that I did not want to analyze as they were not a statistic that all players had, or were unecessary for the study.\n",
    "\n",
    "This purpose of this data set is for fun and for learning. The dataset is made available so that baseball fans can analyze player performance and so that baseball statisticians can view player performance and look for correlations in the player statistics. This is helpful for baseball teams looking to use their budget to acquire the best players available at the cheapest cost.\n",
    "\n",
    "There are a lot of different statistics that I could analyze with this dataset that would draw some interesting conclusions. I would like to analyze the most common hometown in each country represented by players. I would also like to look at how many trades have occured during each season, maybe even by each team to see trends over time. The correlation between batting average and home runs hit would be an interesting statistic as well. The last category I would like to analyze is the average time a player stays in the major league. \n",
    "\n"
   ]
  },
  {
   "cell_type": "code",
   "execution_count": 15,
   "metadata": {
    "collapsed": false
   },
   "outputs": [],
   "source": [
    "import numpy as mp\n",
    "import pandas as pd\n",
    "\n",
    "master = pd.read_csv('/Users/quincyschurr/Documents/SMUSenior/MachineLearning/baseballdatabank/core/Master.csv')\n",
    "master.drop(['nameGiven', 'retroID', 'bbrefID', 'deathYear', 'deathMonth', 'deathDay', 'deathCountry', 'deathState', 'deathCity'], axis = 1, inplace=True)\n"
   ]
  },
  {
   "cell_type": "code",
   "execution_count": 16,
   "metadata": {
    "collapsed": false
   },
   "outputs": [],
   "source": [
    "batting = pd.read_csv('/Users/quincyschurr/Documents/SMUSenior/MachineLearning/baseballdatabank/core/Batting.csv')\n",
    "batting.drop(['CS', 'IBB', 'HBP', 'SH', 'SF', 'GIDP', 'stint', 'SB'], axis=1, inplace=True)"
   ]
  },
  {
   "cell_type": "code",
   "execution_count": 25,
   "metadata": {
    "collapsed": false
   },
   "outputs": [
    {
     "name": "stdout",
     "output_type": "stream",
     "text": [
      "<class 'pandas.core.frame.DataFrame'>\n",
      "Int64Index: 101332 entries, 0 to 101331\n",
      "Data columns (total 28 columns):\n",
      "playerID        101332 non-null object\n",
      "birthYear       101332 non-null float64\n",
      "birthMonth      100778 non-null float64\n",
      "birthDay        100434 non-null float64\n",
      "birthCountry    101243 non-null object\n",
      "birthState      98213 non-null object\n",
      "birthCity       100894 non-null object\n",
      "nameFirst       101291 non-null object\n",
      "nameLast        101332 non-null object\n",
      "weight          100112 non-null float64\n",
      "height          100183 non-null float64\n",
      "bats            99407 non-null object\n",
      "throws          99859 non-null object\n",
      "debut           101326 non-null object\n",
      "finalGame       101326 non-null object\n",
      "yearID          101332 non-null int64\n",
      "teamID          101332 non-null object\n",
      "lgID            100595 non-null object\n",
      "G               101332 non-null int64\n",
      "AB              96183 non-null float64\n",
      "R               96183 non-null float64\n",
      "H               96183 non-null float64\n",
      "2B              96183 non-null float64\n",
      "3B              96183 non-null float64\n",
      "HR              96183 non-null float64\n",
      "RBI             95759 non-null float64\n",
      "BB              96183 non-null float64\n",
      "SO              88345 non-null float64\n",
      "dtypes: float64(14), int64(2), object(12)\n",
      "memory usage: 22.4+ MB\n"
     ]
    }
   ],
   "source": [
    "baseballdata = master.merge(batting)\n",
    "baseballdata['birthYear'].fillna(0.0, inplace=True)\n",
    "baseballdata['birthYear'].astype(int)\n",
    "\n",
    "baseballdata.info()"
   ]
  },
  {
   "cell_type": "code",
   "execution_count": null,
   "metadata": {
    "collapsed": true
   },
   "outputs": [],
   "source": []
  }
 ],
 "metadata": {
  "anaconda-cloud": {},
  "kernelspec": {
   "display_name": "Python [Root]",
   "language": "python",
   "name": "Python [Root]"
  },
  "language_info": {
   "codemirror_mode": {
    "name": "ipython",
    "version": 3
   },
   "file_extension": ".py",
   "mimetype": "text/x-python",
   "name": "python",
   "nbconvert_exporter": "python",
   "pygments_lexer": "ipython3",
   "version": "3.5.2"
  }
 },
 "nbformat": 4,
 "nbformat_minor": 0
}

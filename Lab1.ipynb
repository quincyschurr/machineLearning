{
 "cells": [
  {
   "cell_type": "markdown",
   "metadata": {},
   "source": [
    "# Machine Learning Lab 1\n",
    "### Quincy Schurr"
   ]
  },
  {
   "cell_type": "markdown",
   "metadata": {},
   "source": [
    "#### Overview\n",
    "\n",
    "The dataset that I will be using for this lab is called Lahman's Baseball Database. The data is comprised of 24 tables that describe a variety of baseball statistics for players from 1871 through the 2015 season. The four main dataset tables are the Master, Batting, Pitching, and Fielding tables. For my analysis I will be using the Master and Batting tables.\n",
    "\n",
    "The Master table contains all the demographic data for a player, including their name, playerID, date of birth, hometown, height, and weight. This table originally had 24 features and 19049 rows, for all players in baseball. The requirements for this project say at least 30,000 records, but once I have cleaned up the data and merged it with some of the other tables that I want to draw data from, there will be many more records for each player.\n",
    "\n",
    "The other three main tables include playing statistics for the player for each year that they played including their team. I cleaned up the data a bit by dropping columns that I did not want to analyze as they were not a statistic that all players had, or were unecessary for the study.\n",
    "\n",
    "This purpose of this data set is for fun and for learning. The dataset is made available so that baseball fans can analyze player performance and so that baseball statisticians can view player performance and look for correlations in the player statistics. This is helpful for baseball teams looking to use their budget to acquire the best players available at the cheapest cost.\n",
    "\n",
    "There are a lot of different statistics that I could analyze with this dataset that would draw some interesting conclusions. I would like to analyze the most common hometown in each country represented by players. I would also like to look at how many trades have occured during each season, maybe even by each team to see trends over time. The correlation between batting average and home runs hit would be an interesting statistic as well. The last category I would like to analyze is the average time a player stays in the major league. \n",
    "\n"
   ]
  },
  {
   "cell_type": "markdown",
   "metadata": {},
   "source": [
    "#### Data Understanding\n",
    "\n",
    "The following section looks to describe each statistic in this data set\n",
    "\n",
    "###### playerID \n",
    "The player ID is representative of all player statistics. It is defined in the Master table and it is what is used to link most of the other tables together. It is unique to each player.\n",
    "###### birthYear\n",
    "This is the year the player was born, it is an integer and the data is ordinal.\n",
    "###### birthMonth\n",
    "###### birthDay\n",
    "###### birthCountry\n",
    "###### birthState\n",
    "##### birthCity\n",
    "##### nameFirst\n",
    "##### nameLast\n",
    "##### weight\n",
    "##### height\n",
    "##### bats\n",
    "##### throws\n",
    "##### debut\n",
    "##### finalGame\n",
    "##### yearID\n",
    "##### teamID\n",
    "##### lgID\n",
    "##### G\n",
    "##### AB\n",
    "##### R\n",
    "##### H\n",
    "##### 2B\n",
    "##### 3B\n",
    "##### HR\n",
    "##### RBI\n",
    "##### BB\n",
    "##### SO"
   ]
  },
  {
   "cell_type": "code",
   "execution_count": 13,
   "metadata": {
    "collapsed": false
   },
   "outputs": [],
   "source": [
    "import numpy as mp\n",
    "import pandas as pd\n",
    "\n",
    "master = pd.read_csv('https://raw.githubusercontent.com/chadwickbureau/baseballdatabank/master/core/Master.csv')\n",
    "master.drop(['nameGiven', 'retroID', 'bbrefID', 'deathYear', 'deathMonth', 'deathDay', 'deathCountry', 'deathState', 'deathCity'], axis = 1, inplace=True)"
   ]
  },
  {
   "cell_type": "code",
   "execution_count": 21,
   "metadata": {
    "collapsed": false
   },
   "outputs": [],
   "source": [
    "batting = pd.read_csv('https://raw.githubusercontent.com/chadwickbureau/baseballdatabank/master/core/Batting.csv')\n",
    "batting.drop(['CS', 'IBB', 'HBP', 'SH', 'SF', 'GIDP', 'stint', 'SB'], axis=1, inplace=True)"
   ]
  },
  {
   "cell_type": "markdown",
   "metadata": {},
   "source": [
    "The reasoning behind dropping all values that had a null value/missing value were that many of the statistics should not be influenced by an overwhelming number of records with mean values. The statistics in this data set highlight individual player performance and so filling in missing values with the mean would not be representative of the performance of the player that year. It was better to remove the whole record."
   ]
  },
  {
   "cell_type": "code",
   "execution_count": 30,
   "metadata": {
    "collapsed": false
   },
   "outputs": [
    {
     "name": "stdout",
     "output_type": "stream",
     "text": [
      "<class 'pandas.core.frame.DataFrame'>\n",
      "Int64Index: 83822 entries, 0 to 101331\n",
      "Data columns (total 28 columns):\n",
      "playerID        83822 non-null object\n",
      "birthYear       83822 non-null int64\n",
      "birthMonth      83822 non-null int64\n",
      "birthDay        83822 non-null int64\n",
      "birthCountry    83822 non-null object\n",
      "birthState      83822 non-null object\n",
      "birthCity       83822 non-null object\n",
      "nameFirst       83822 non-null object\n",
      "nameLast        83822 non-null object\n",
      "weight          83822 non-null float64\n",
      "height          83822 non-null float64\n",
      "bats            83822 non-null object\n",
      "throws          83822 non-null object\n",
      "debut           83822 non-null object\n",
      "finalGame       83822 non-null object\n",
      "yearID          83822 non-null int64\n",
      "teamID          83822 non-null object\n",
      "lgID            83822 non-null object\n",
      "G               83822 non-null int64\n",
      "AB              83822 non-null int64\n",
      "R               83822 non-null int64\n",
      "H               83822 non-null int64\n",
      "2B              83822 non-null int64\n",
      "3B              83822 non-null int64\n",
      "HR              83822 non-null int64\n",
      "RBI             83822 non-null int64\n",
      "BB              83822 non-null int64\n",
      "SO              83822 non-null int64\n",
      "dtypes: float64(2), int64(14), object(12)\n",
      "memory usage: 18.5+ MB\n"
     ]
    }
   ],
   "source": [
    "#merge player demographics with batting statistics\n",
    "baseballdata = master.merge(batting)\n",
    "#just to clean up the data a bit, still have 83822 records. \n",
    "baseballdata.dropna(inplace=True)\n",
    "#convert to int b/c birth date shouldnt be float. Also converting Runs, etc b/c all whole numbers\n",
    "floatList = ['birthYear', 'birthMonth', 'birthDay', 'R', 'AB', 'H', '2B', '3B', 'HR', 'RBI', 'BB', 'SO']\n",
    "for x in floatList:\n",
    "    baseballdata[x] = baseballdata[x].astype(int)\n",
    "baseballdata.info()\n"
   ]
  },
  {
   "cell_type": "code",
   "execution_count": null,
   "metadata": {
    "collapsed": false
   },
   "outputs": [],
   "source": []
  },
  {
   "cell_type": "code",
   "execution_count": null,
   "metadata": {
    "collapsed": true
   },
   "outputs": [],
   "source": []
  }
 ],
 "metadata": {
  "anaconda-cloud": {},
  "kernelspec": {
   "display_name": "Python [Root]",
   "language": "python",
   "name": "Python [Root]"
  },
  "language_info": {
   "codemirror_mode": {
    "name": "ipython",
    "version": 3
   },
   "file_extension": ".py",
   "mimetype": "text/x-python",
   "name": "python",
   "nbconvert_exporter": "python",
   "pygments_lexer": "ipython3",
   "version": "3.5.2"
  }
 },
 "nbformat": 4,
 "nbformat_minor": 0
}

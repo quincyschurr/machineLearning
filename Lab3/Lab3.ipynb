{
 "cells": [
  {
   "cell_type": "code",
   "execution_count": 17,
   "metadata": {
    "collapsed": false
   },
   "outputs": [
    {
     "name": "stdout",
     "output_type": "stream",
     "text": [
      "(24998, 2)\n",
      "(24998, 3)\n"
     ]
    }
   ],
   "source": [
    "test1_url = 'https://raw.githubusercontent.com/quincyschurr/machineLearning/master/Lab3/test1'\n",
    "test2_url = 'https://raw.githubusercontent.com/quincyschurr/machineLearning/master/Lab3/test2'\n",
    "import pandas as pd\n",
    "test1 = pd.read_csv(test1_url, delimiter='\\t')\n",
    "test2 = pd.read_csv(test2_url, delimiter='\\t')\n",
    "test2.columns = ['id', 'review']\n",
    "test_data = test1.append(test2, ignore_index=True)\n",
    "\n",
    "\n",
    "train1_url = 'https://raw.githubusercontent.com/quincyschurr/machineLearning/master/Lab3/train1'\n",
    "train2_url = 'https://raw.githubusercontent.com/quincyschurr/machineLearning/master/Lab3/train2'\n",
    "import pandas as pd\n",
    "train1 = pd.read_csv(train1_url, delimiter='\\t')\n",
    "train2 = pd.read_csv(train2_url, delimiter='\\t')\n",
    "train2.columns = ['id', 'sentiment', 'review']\n",
    "train_data = train1.append(train2, ignore_index=True)\n",
    "\n"
   ]
  },
  {
   "cell_type": "code",
   "execution_count": null,
   "metadata": {
    "collapsed": true
   },
   "outputs": [],
   "source": [
    "import tensorflow"
   ]
  }
 ],
 "metadata": {
  "anaconda-cloud": {},
  "kernelspec": {
   "display_name": "Python [Root]",
   "language": "python",
   "name": "Python [Root]"
  },
  "language_info": {
   "codemirror_mode": {
    "name": "ipython",
    "version": 3
   },
   "file_extension": ".py",
   "mimetype": "text/x-python",
   "name": "python",
   "nbconvert_exporter": "python",
   "pygments_lexer": "ipython3",
   "version": "3.5.2"
  }
 },
 "nbformat": 4,
 "nbformat_minor": 0
}

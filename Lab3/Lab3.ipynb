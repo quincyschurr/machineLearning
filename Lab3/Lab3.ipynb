{
 "cells": [
  {
   "cell_type": "markdown",
   "metadata": {},
   "source": [
    "# Machine Learning Lab 3"
   ]
  },
  {
   "cell_type": "markdown",
   "metadata": {},
   "source": [
    "### Eric Johnson and Quincy Schurr"
   ]
  },
  {
   "cell_type": "markdown",
   "metadata": {},
   "source": [
    "#### Overview"
   ]
  },
  {
   "cell_type": "markdown",
   "metadata": {},
   "source": [
    "The dataset that we will be using for Lab 3 was obtained from a Kaggle competition called Bago of Words Meets Bag of Popcorn. The dataset can be found here https://www.kaggle.com/c/word2vec-nlp-tutorial/data. \n",
    "\n",
    "The dataset is comprised of 3 files, the test dataset, the unlabeled training dataset, and the labeled training dataset. For this lab we will be using the test and labeled training datasets. The test dataset has 25,000 records that contain an id and then a review. The labeled training dataset contains 25,000 records that include an id, a sentiment score, and a review. The sentiment score is a binary value where 1 is a positive review, given if the rating on IMDB was greater than or equal to 7, and 0 is a negative review, given if the rating on IMDB was less than 5.\n",
    "\n",
    "The purpose of this dataset is understanding sentiment analysis through deep learning architectures. This means that the machine is learning how interpret the meaning behind an expression by learning how language is constructed and then trying to piece together patterns to determine whether an expression is positive or negative in meaning. The dataset was made public to users of Kaggle so that they could learn how to use deep learning architectures in order to classify or predict what people mean when they say certain things or predict what they could say next based on previous things they have said. \n",
    "\n",
    "For this lab we will be classifying the movie reviews as positive or negative based on the sentiment analysis. Since the dataset was already split into a test and training set, we do not have to preprocess the data in order to split it up. We will be choosing two deep learning architectures to run our data through and will be testing the accuracy of each of the architectures. We will also be tuning the hyperparameters to try to obtain the best accruacy for each architecture. "
   ]
  },
  {
   "cell_type": "markdown",
   "metadata": {},
   "source": [
    "##### Define all imports needed for project"
   ]
  },
  {
   "cell_type": "code",
   "execution_count": 1,
   "metadata": {
    "collapsed": false
   },
   "outputs": [
    {
     "name": "stderr",
     "output_type": "stream",
     "text": [
      "/Users/quincyschurr/anaconda3/lib/python3.5/site-packages/sklearn/cross_validation.py:44: DeprecationWarning: This module was deprecated in version 0.18 in favor of the model_selection module into which all the refactored classes and functions are moved. Also note that the interface of the new CV iterators are different from that of this module. This module will be removed in 0.20.\n",
      "  \"This module will be removed in 0.20.\", DeprecationWarning)\n",
      "/Users/quincyschurr/anaconda3/lib/python3.5/site-packages/sklearn/grid_search.py:43: DeprecationWarning: This module was deprecated in version 0.18 in favor of the model_selection module into which all the refactored classes and functions are moved. This module will be removed in 0.20.\n",
      "  DeprecationWarning)\n"
     ]
    }
   ],
   "source": [
    "import pandas as pd\n",
    "import numpy as np\n",
    "from sklearn import metrics, grid_search\n",
    "import tensorflow as tf\n",
    "from tensorflow.contrib import learn"
   ]
  },
  {
   "cell_type": "markdown",
   "metadata": {},
   "source": [
    "##### Import the data"
   ]
  },
  {
   "cell_type": "code",
   "execution_count": 5,
   "metadata": {
    "collapsed": false
   },
   "outputs": [],
   "source": [
    "test1_url = 'https://raw.githubusercontent.com/quincyschurr/machineLearning/master/Lab3/test1'\n",
    "test2_url = 'https://raw.githubusercontent.com/quincyschurr/machineLearning/master/Lab3/test2'\n",
    "\n",
    "test1 = pd.read_csv(test1_url, delimiter='\\t')\n",
    "test2 = pd.read_csv(test2_url, delimiter='\\t')\n",
    "test2.columns = ['id', 'review']\n",
    "test_data = test1.append(test2, ignore_index=True)\n",
    "\n",
    "\n",
    "train1_url = 'https://raw.githubusercontent.com/quincyschurr/machineLearning/master/Lab3/train1'\n",
    "train2_url = 'https://raw.githubusercontent.com/quincyschurr/machineLearning/master/Lab3/train2'\n",
    "train1 = pd.read_csv(train1_url, delimiter='\\t')\n",
    "train2 = pd.read_csv(train2_url, delimiter='\\t')\n",
    "train2.columns = ['id', 'sentiment', 'review']\n",
    "train_data = train1.append(train2, ignore_index=True)"
   ]
  },
  {
   "cell_type": "markdown",
   "metadata": {},
   "source": [
    "##### Remove punctuation from the data"
   ]
  },
  {
   "cell_type": "code",
   "execution_count": 6,
   "metadata": {
    "collapsed": false
   },
   "outputs": [
    {
     "name": "stdout",
     "output_type": "stream",
     "text": [
      "52\n",
      "30\n"
     ]
    }
   ],
   "source": [
    "test_data['review'].replace(regex=True,inplace=True,to_replace=r'<br \\/>',value=r'')\n",
    "test_data['review'].replace(regex=True,inplace=True,to_replace=r'[.,\\\\/|#!$%\\^&\\*;:{}=\\-_\\'~()\\?\"]',value=r'')\n",
    "#print(test_data.ix[9].review)\n",
    "print(np.min(train_data.review.str.len()))\n",
    "print(np.min(test_data.review.str.len()))"
   ]
  },
  {
   "cell_type": "markdown",
   "metadata": {
    "collapsed": true
   },
   "source": [
    "##### Create embedding of all the words in the datasets"
   ]
  },
  {
   "cell_type": "code",
   "execution_count": 17,
   "metadata": {
    "collapsed": false
   },
   "outputs": [
    {
     "name": "stdout",
     "output_type": "stream",
     "text": [
      "Total words: 225867\n"
     ]
    }
   ],
   "source": [
    "# Try tweaking these numbers\n",
    "MAX_DOCUMENT_LENGTH = 30\n",
    "EMBEDDING_SIZE = 100\n",
    "\n",
    "vocab_processor = learn.preprocessing.VocabularyProcessor(MAX_DOCUMENT_LENGTH)\n",
    "x_train = train_data['review']\n",
    "y_train = train_data['sentiment'].astype('float32')\n",
    "x_test = test_data['review']\n",
    "vocab_processor.fit(x_train.append(x_test))\n",
    "x_train = np.array(list(vocab_processor.transform(x_train))).astype('float32')\n",
    "y_train = np.array(y_train)\n",
    "x_test = np.array(list(vocab_processor.transform(x_test)))\n",
    "n_words = len(vocab_processor.vocabulary_)\n",
    "print('Total words: %d' % n_words)"
   ]
  },
  {
   "cell_type": "code",
   "execution_count": 25,
   "metadata": {
    "collapsed": false
   },
   "outputs": [
    {
     "ename": "NameError",
     "evalue": "name 'none' is not defined",
     "output_type": "error",
     "traceback": [
      "\u001b[0;31m---------------------------------------------------------------------------\u001b[0m",
      "\u001b[0;31mNameError\u001b[0m                                 Traceback (most recent call last)",
      "\u001b[0;32m<ipython-input-25-6eb1a0ce2941>\u001b[0m in \u001b[0;36m<module>\u001b[0;34m()\u001b[0m\n\u001b[0;32m----> 1\u001b[0;31m \u001b[0mget_ipython\u001b[0m\u001b[0;34m(\u001b[0m\u001b[0;34m)\u001b[0m\u001b[0;34m.\u001b[0m\u001b[0mrun_cell_magic\u001b[0m\u001b[0;34m(\u001b[0m\u001b[0;34m'time'\u001b[0m\u001b[0;34m,\u001b[0m \u001b[0;34m''\u001b[0m\u001b[0;34m,\u001b[0m \u001b[0;34m\"# Copy TensorFlow Architecture from \\n#   Deep MNIST for experts\\n#   https://www.tensorflow.org/versions/r0.11/tutorials/mnist/pros/index.html\\n#which we then copied from Notebook 14 from in class\\n\\nimport tensorflow as tf\\nfrom tensorflow.contrib import learn\\nfrom tensorflow.contrib import layers\\n\\ndef conv_model(X, y):\\n    print('===============================')\\n    print(X)\\n    # get in format expected by conv2d\\n    # (batch_size,width, height,color_channels)\\n    # since our images are gray scale and 28x28 pixels\\n    #   we define the last three elements as 28x28x1\\n    # we don't know the batch size, so just let it \\n    # figure that out from the input data (-1 designation)\\n    # height and width of images\\n    features = tf.reshape(X, [-1, MAX_DOCUMENT_LENGTH, EMBEDDING_SIZE, 1])\\n    print(features)\\n    \\n    # create 32 filters of 5x5 size \\n    n_out = 32\\n    kernel = [5,5]\\n    features = layers.conv2d(inputs=features, \\n                            num_outputs=n_out, \\n                            kernel_size=kernel)\\n    print('Through conv')\\n    # add a bias and pass through relu (for concentrated gradients)\\n    features = tf.nn.relu(layers.bias_add(features))\\n    \\n    # 2x2 max pool to reduce image size to 14x14\\n    kernel = [1, 2, 2, 1]\\n    stride = [1, 2, 2, 1]\\n    features = tf.nn.max_pool(features, ksize=kernel,strides=stride, padding='SAME')\\n    \\n    # create 64 filters of 5x5 size\\n    n_out = 5\\n    kernel = [3,3]\\n    features = layers.conv2d(inputs=features, \\n                            num_outputs=n_out, \\n                            kernel_size=kernel)\\n    \\n    # add a bias and pass through relu (for concentrated gradients)\\n    features = tf.nn.relu(layers.bias_add(features))\\n    \\n    # 2x2 max pool to reduce image size to 7x7\\n    kernel = [1, 2, 2, 1]\\n    stride = [1, 2, 2, 1]\\n    features = tf.nn.max_pool(features, ksize=kernel,strides=stride, padding='SAME')\\n    \\n\\n    # make the weights a column vector, 7x7x64 = 3136\\n    features = layers.flatten(features)\\n    print(features)\\n    \\n    # pass through fully connected layer with 1024 hidden neurons, W=3136x1024\\n    features = layers.stack(features, layers.fully_connected, [1024])\\n    \\n    # add bias and pass through relu\\n    features = tf.nn.relu(layers.bias_add(features))\\n    print(features)\\n    \\n    # then make a fully connected layer with bias and sigmoid nonlinearity \\n    #  which... is... just logistic regression with one versus all\\n    pred, loss = learn.models.logistic_regression(features, y)\\n    print(pred)\\n    \\n    print('===============================')\\n    \\n    return pred, loss\\n\\n\\n# Create a classifier, train and predict.\\nclassifier = learn.TensorFlowEstimator(model_fn=conv_model, \\n                                       n_classes=2, steps=20000, \\n                                       learning_rate=0.05, batch_size=none)\\n\\n# this operation can take a little while to complete\\n#   Google says it should take about 30 minutes, but \\n#   my machine took a lot longer...\\nclassifier.fit(x_train, y_train)\\n\\n# now predict the outcome\\n#score = accuracy_score(y_test, classifier.predict(X_test))\\n#print(score)\"\u001b[0m\u001b[0;34m)\u001b[0m\u001b[0;34m\u001b[0m\u001b[0m\n\u001b[0m",
      "\u001b[0;32m/Users/quincyschurr/anaconda3/lib/python3.5/site-packages/IPython/core/interactiveshell.py\u001b[0m in \u001b[0;36mrun_cell_magic\u001b[0;34m(self, magic_name, line, cell)\u001b[0m\n\u001b[1;32m   2118\u001b[0m             \u001b[0mmagic_arg_s\u001b[0m \u001b[0;34m=\u001b[0m \u001b[0mself\u001b[0m\u001b[0;34m.\u001b[0m\u001b[0mvar_expand\u001b[0m\u001b[0;34m(\u001b[0m\u001b[0mline\u001b[0m\u001b[0;34m,\u001b[0m \u001b[0mstack_depth\u001b[0m\u001b[0;34m)\u001b[0m\u001b[0;34m\u001b[0m\u001b[0m\n\u001b[1;32m   2119\u001b[0m             \u001b[0;32mwith\u001b[0m \u001b[0mself\u001b[0m\u001b[0;34m.\u001b[0m\u001b[0mbuiltin_trap\u001b[0m\u001b[0;34m:\u001b[0m\u001b[0;34m\u001b[0m\u001b[0m\n\u001b[0;32m-> 2120\u001b[0;31m                 \u001b[0mresult\u001b[0m \u001b[0;34m=\u001b[0m \u001b[0mfn\u001b[0m\u001b[0;34m(\u001b[0m\u001b[0mmagic_arg_s\u001b[0m\u001b[0;34m,\u001b[0m \u001b[0mcell\u001b[0m\u001b[0;34m)\u001b[0m\u001b[0;34m\u001b[0m\u001b[0m\n\u001b[0m\u001b[1;32m   2121\u001b[0m             \u001b[0;32mreturn\u001b[0m \u001b[0mresult\u001b[0m\u001b[0;34m\u001b[0m\u001b[0m\n\u001b[1;32m   2122\u001b[0m \u001b[0;34m\u001b[0m\u001b[0m\n",
      "\u001b[0;32m<decorator-gen-60>\u001b[0m in \u001b[0;36mtime\u001b[0;34m(self, line, cell, local_ns)\u001b[0m\n",
      "\u001b[0;32m/Users/quincyschurr/anaconda3/lib/python3.5/site-packages/IPython/core/magic.py\u001b[0m in \u001b[0;36m<lambda>\u001b[0;34m(f, *a, **k)\u001b[0m\n\u001b[1;32m    191\u001b[0m     \u001b[0;31m# but it's overkill for just that one bit of state.\u001b[0m\u001b[0;34m\u001b[0m\u001b[0;34m\u001b[0m\u001b[0m\n\u001b[1;32m    192\u001b[0m     \u001b[0;32mdef\u001b[0m \u001b[0mmagic_deco\u001b[0m\u001b[0;34m(\u001b[0m\u001b[0marg\u001b[0m\u001b[0;34m)\u001b[0m\u001b[0;34m:\u001b[0m\u001b[0;34m\u001b[0m\u001b[0m\n\u001b[0;32m--> 193\u001b[0;31m         \u001b[0mcall\u001b[0m \u001b[0;34m=\u001b[0m \u001b[0;32mlambda\u001b[0m \u001b[0mf\u001b[0m\u001b[0;34m,\u001b[0m \u001b[0;34m*\u001b[0m\u001b[0ma\u001b[0m\u001b[0;34m,\u001b[0m \u001b[0;34m**\u001b[0m\u001b[0mk\u001b[0m\u001b[0;34m:\u001b[0m \u001b[0mf\u001b[0m\u001b[0;34m(\u001b[0m\u001b[0;34m*\u001b[0m\u001b[0ma\u001b[0m\u001b[0;34m,\u001b[0m \u001b[0;34m**\u001b[0m\u001b[0mk\u001b[0m\u001b[0;34m)\u001b[0m\u001b[0;34m\u001b[0m\u001b[0m\n\u001b[0m\u001b[1;32m    194\u001b[0m \u001b[0;34m\u001b[0m\u001b[0m\n\u001b[1;32m    195\u001b[0m         \u001b[0;32mif\u001b[0m \u001b[0mcallable\u001b[0m\u001b[0;34m(\u001b[0m\u001b[0marg\u001b[0m\u001b[0;34m)\u001b[0m\u001b[0;34m:\u001b[0m\u001b[0;34m\u001b[0m\u001b[0m\n",
      "\u001b[0;32m/Users/quincyschurr/anaconda3/lib/python3.5/site-packages/IPython/core/magics/execution.py\u001b[0m in \u001b[0;36mtime\u001b[0;34m(self, line, cell, local_ns)\u001b[0m\n\u001b[1;32m   1175\u001b[0m         \u001b[0;32melse\u001b[0m\u001b[0;34m:\u001b[0m\u001b[0;34m\u001b[0m\u001b[0m\n\u001b[1;32m   1176\u001b[0m             \u001b[0mst\u001b[0m \u001b[0;34m=\u001b[0m \u001b[0mclock2\u001b[0m\u001b[0;34m(\u001b[0m\u001b[0;34m)\u001b[0m\u001b[0;34m\u001b[0m\u001b[0m\n\u001b[0;32m-> 1177\u001b[0;31m             \u001b[0mexec\u001b[0m\u001b[0;34m(\u001b[0m\u001b[0mcode\u001b[0m\u001b[0;34m,\u001b[0m \u001b[0mglob\u001b[0m\u001b[0;34m,\u001b[0m \u001b[0mlocal_ns\u001b[0m\u001b[0;34m)\u001b[0m\u001b[0;34m\u001b[0m\u001b[0m\n\u001b[0m\u001b[1;32m   1178\u001b[0m             \u001b[0mend\u001b[0m \u001b[0;34m=\u001b[0m \u001b[0mclock2\u001b[0m\u001b[0;34m(\u001b[0m\u001b[0;34m)\u001b[0m\u001b[0;34m\u001b[0m\u001b[0m\n\u001b[1;32m   1179\u001b[0m             \u001b[0mout\u001b[0m \u001b[0;34m=\u001b[0m \u001b[0;32mNone\u001b[0m\u001b[0;34m\u001b[0m\u001b[0m\n",
      "\u001b[0;32m<timed exec>\u001b[0m in \u001b[0;36m<module>\u001b[0;34m()\u001b[0m\n",
      "\u001b[0;31mNameError\u001b[0m: name 'none' is not defined"
     ]
    }
   ],
   "source": [
    "%%time\n",
    "# Copy TensorFlow Architecture from \n",
    "#   Deep MNIST for experts\n",
    "#   https://www.tensorflow.org/versions/r0.11/tutorials/mnist/pros/index.html\n",
    "#which we then copied from Notebook 14 from in class\n",
    "\n",
    "import tensorflow as tf\n",
    "from tensorflow.contrib import learn\n",
    "from tensorflow.contrib import layers\n",
    "\n",
    "def conv_model(X, y):\n",
    "    print('===============================')\n",
    "    print(X)\n",
    "    # get in format expected by conv2d\n",
    "    # (batch_size,width, height,color_channels)\n",
    "    # since our images are gray scale and 28x28 pixels\n",
    "    #   we define the last three elements as 28x28x1\n",
    "    # we don't know the batch size, so just let it \n",
    "    # figure that out from the input data (-1 designation)\n",
    "    # height and width of images\n",
    "    features = tf.reshape(X, [-1, MAX_DOCUMENT_LENGTH, EMBEDDING_SIZE, 1])\n",
    "    print(features)\n",
    "    \n",
    "    # create 32 filters of 5x5 size \n",
    "    n_out = 32\n",
    "    kernel = [5,5]\n",
    "    features = layers.conv2d(inputs=features, \n",
    "                            num_outputs=n_out, \n",
    "                            kernel_size=kernel)\n",
    "    print('Through conv')\n",
    "    # add a bias and pass through relu (for concentrated gradients)\n",
    "    features = tf.nn.relu(layers.bias_add(features))\n",
    "    \n",
    "    # 2x2 max pool to reduce image size to 14x14\n",
    "    kernel = [1, 2, 2, 1]\n",
    "    stride = [1, 2, 2, 1]\n",
    "    features = tf.nn.max_pool(features, ksize=kernel,strides=stride, padding='SAME')\n",
    "    \n",
    "    # create 64 filters of 5x5 size\n",
    "    n_out = 5\n",
    "    kernel = [3,3]\n",
    "    features = layers.conv2d(inputs=features, \n",
    "                            num_outputs=n_out, \n",
    "                            kernel_size=kernel)\n",
    "    \n",
    "    # add a bias and pass through relu (for concentrated gradients)\n",
    "    features = tf.nn.relu(layers.bias_add(features))\n",
    "    \n",
    "    # 2x2 max pool to reduce image size to 7x7\n",
    "    kernel = [1, 2, 2, 1]\n",
    "    stride = [1, 2, 2, 1]\n",
    "    features = tf.nn.max_pool(features, ksize=kernel,strides=stride, padding='SAME')\n",
    "    \n",
    "\n",
    "    # make the weights a column vector, 7x7x64 = 3136\n",
    "    features = layers.flatten(features)\n",
    "    print(features)\n",
    "    \n",
    "    # pass through fully connected layer with 1024 hidden neurons, W=3136x1024\n",
    "    features = layers.stack(features, layers.fully_connected, [1024])\n",
    "    \n",
    "    # add bias and pass through relu\n",
    "    features = tf.nn.relu(layers.bias_add(features))\n",
    "    print(features)\n",
    "    \n",
    "    # then make a fully connected layer with bias and sigmoid nonlinearity \n",
    "    #  which... is... just logistic regression with one versus all\n",
    "    pred, loss = learn.models.logistic_regression(features, y)\n",
    "    print(pred)\n",
    "    \n",
    "    print('===============================')\n",
    "    \n",
    "    return pred, loss\n",
    "\n",
    "\n",
    "# Create a classifier, train and predict.\n",
    "classifier = learn.TensorFlowEstimator(model_fn=conv_model, \n",
    "                                       n_classes=2, steps=20000, \n",
    "                                       learning_rate=0.05, batch_size=none)\n",
    "\n",
    "# this operation can take a little while to complete\n",
    "#   Google says it should take about 30 minutes, but \n",
    "#   my machine took a lot longer...\n",
    "classifier.fit(x_train, y_train)\n",
    "\n",
    "# now predict the outcome\n",
    "#score = accuracy_score(y_test, classifier.predict(X_test))\n",
    "#print(score)"
   ]
  },
  {
   "cell_type": "markdown",
   "metadata": {},
   "source": [
    "##### Create model functions\n",
    "From in-class notebook 15"
   ]
  },
  {
   "cell_type": "code",
   "execution_count": null,
   "metadata": {
    "collapsed": true
   },
   "outputs": [],
   "source": [
    "def lstm_model(x, y):\n",
    "    # Convert indexes of words into embeddings.\n",
    "    # This creates embeddings matrix of [n_words, EMBEDDING_SIZE] and then\n",
    "    # maps word indexes of the sequence into [batch_size, sequence_length,\n",
    "    # EMBEDDING_SIZE].\n",
    "    word_vectors = learn.ops.categorical_variable(x, n_classes=n_words,\n",
    "      embedding_size=EMBEDDING_SIZE, name='words')\n",
    "\n",
    "    # Split into list of embedding per word, while removing doc length dim.\n",
    "    # word_list results to be a list of tensors [batch_size, EMBEDDING_SIZE].\n",
    "    word_list = tf.unpack(word_vectors, axis=1)\n",
    "\n",
    "    # Create a Gated Recurrent Unit cell with hidden size of EMBEDDING_SIZE.\n",
    "    cell = tf.nn.rnn_cell.LSTMCell(EMBEDDING_SIZE,state_is_tuple=False)\n",
    "    #cell = tf.nn.rnn_cell.BasicRNNCell(HIDDEN_SIZE)\n",
    "\n",
    "    # Create an unrolled Recurrent Neural Networks to length of\n",
    "    # MAX_DOCUMENT_LENGTH and passes word_list as inputs for each unit.\n",
    "    per_rnn_output, final_encoding = tf.nn.rnn(cell, word_list, dtype=tf.float32)\n",
    "\n",
    "    # Given encoding of RNN, take encoding of last step (e.g hidden size of the\n",
    "    # neural network of last step) and pass it as features for logistic\n",
    "    # regression over output classes.\n",
    "    target = tf.one_hot(y, 15, 1, 0)\n",
    "    prediction, loss = learn.models.logistic_regression(final_encoding, target)\n",
    "\n",
    "    # Create a training op.\n",
    "    train_op = tf.contrib.layers.optimize_loss(\n",
    "      loss, tf.contrib.framework.get_global_step(),\n",
    "      optimizer='Adam', learning_rate=0.01)\n",
    "\n",
    "    return {'class': tf.argmax(prediction, 1), 'prob': prediction}, loss, train_op"
   ]
  },
  {
   "cell_type": "code",
   "execution_count": null,
   "metadata": {
    "collapsed": true
   },
   "outputs": [],
   "source": [
    "def gru_model(x, y):\n",
    "    # Convert indexes of words into embeddings.\n",
    "    # This creates embeddings matrix of [n_words, EMBEDDING_SIZE] and then\n",
    "    # maps word indexes of the sequence into [batch_size, sequence_length,\n",
    "    # EMBEDDING_SIZE].\n",
    "    word_vectors = learn.ops.categorical_variable(x, n_classes=n_words,\n",
    "      embedding_size=EMBEDDING_SIZE, name='words')\n",
    "\n",
    "    # Split into list of embedding per word, while removing doc length dim.\n",
    "    # word_list results to be a list of tensors [batch_size, EMBEDDING_SIZE].\n",
    "    word_list = tf.unpack(word_vectors, axis=1)\n",
    "\n",
    "    # Create a Gated Recurrent Unit cell with hidden size of EMBEDDING_SIZE.\n",
    "    cell = tf.nn.rnn_cell.GRUCell(EMBEDDING_SIZE)\n",
    "\n",
    "    # Create an unrolled Recurrent Neural Networks to length of\n",
    "    # MAX_DOCUMENT_LENGTH and passes word_list as inputs for each unit.\n",
    "    per_rnn_output, final_encoding = tf.nn.rnn(cell, word_list, dtype=tf.float32)\n",
    "\n",
    "    # Given encoding of RNN, take encoding of last step (e.g hidden size of the\n",
    "    # neural network of last step) and pass it as features for logistic\n",
    "    # regression over output classes.\n",
    "    target = tf.one_hot(y, 15, 1, 0)\n",
    "    prediction, loss = learn.models.logistic_regression(final_encoding, target)\n",
    "\n",
    "    # Create a training op.\n",
    "    train_op = tf.contrib.layers.optimize_loss(\n",
    "      loss, tf.contrib.framework.get_global_step(),\n",
    "      optimizer='Adam', learning_rate=0.01)\n",
    "\n",
    "    return {'class': tf.argmax(prediction, 1), 'prob': prediction}, loss, train_op"
   ]
  },
  {
   "cell_type": "markdown",
   "metadata": {},
   "source": [
    "##### Hyper-tune parameters with grid search"
   ]
  },
  {
   "cell_type": "code",
   "execution_count": null,
   "metadata": {
    "collapsed": false
   },
   "outputs": [],
   "source": [
    "# Basic outline of gridsearch. Probably will need to tweak\n",
    "param_grid = {\"steps\": [200,400],\n",
    "               \"learning_rate\": [0.1,0.2]}\n",
    "\n",
    "regressor = learn.TensorFlowDNNRegressor(hidden_units=[10, 10],\n",
    "steps=5000, learning_rate=0.1, batch_size=10)\n",
    "\n",
    "# run grid search\n",
    "gs = grid_search.GridSearchCV(\n",
    "         regressor, param_grid=param_grid, scoring = 'accuracy',\n",
    "         verbose=10, n_jobs=-1,cv=2, fit_params={'steps': [200,400]})\n",
    "\n",
    "# summarize the results of the grid search\n",
    "print(gs.best_score_)\n",
    "print(gs.best_params_)"
   ]
  },
  {
   "cell_type": "code",
   "execution_count": null,
   "metadata": {
    "collapsed": true
   },
   "outputs": [],
   "source": []
  }
 ],
 "metadata": {
  "anaconda-cloud": {},
  "kernelspec": {
   "display_name": "Python [Root]",
   "language": "python",
   "name": "Python [Root]"
  },
  "language_info": {
   "codemirror_mode": {
    "name": "ipython",
    "version": 3
   },
   "file_extension": ".py",
   "mimetype": "text/x-python",
   "name": "python",
   "nbconvert_exporter": "python",
   "pygments_lexer": "ipython3",
   "version": "3.5.2"
  }
 },
 "nbformat": 4,
 "nbformat_minor": 0
}

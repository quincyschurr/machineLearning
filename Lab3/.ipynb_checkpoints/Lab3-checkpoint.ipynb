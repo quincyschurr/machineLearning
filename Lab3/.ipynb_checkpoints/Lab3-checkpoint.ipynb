{
 "cells": [
  {
   "cell_type": "markdown",
   "metadata": {},
   "source": [
    "# Machine Learning Lab 3"
   ]
  },
  {
   "cell_type": "markdown",
   "metadata": {},
   "source": [
    "### Eric Johnson and Quincy Schurr"
   ]
  },
  {
   "cell_type": "markdown",
   "metadata": {},
   "source": [
    "#### Overview"
   ]
  },
  {
   "cell_type": "markdown",
   "metadata": {},
   "source": [
    "The dataset that we will be using for Lab 3 was obtained from a Kaggle competition called Bago of Words Meets Bag of Popcorn. The dataset can be found here https://www.kaggle.com/c/word2vec-nlp-tutorial/data. The test dataset has 25,000 records that contain an id and then a review. The labeled training dataset contains 25,000 records that include an id, a sentiment score, and a review. The sentiment score is a binary value where 1 is a positive review, given if the rating on IMDB was greater than or equal to 7, and 0 is a negative review, given if the rating on IMDB was less than 5. For this lab we will be classifying the movie reviews as positive or negative based on the sentiment analysis.\n",
    "\n",
    "The purpose of this dataset is a tutorial learning dataset for learning sentiment analysis. "
   ]
  },
  {
   "cell_type": "code",
   "execution_count": 10,
   "metadata": {
    "collapsed": true
   },
   "outputs": [],
   "source": [
    "test1_url = 'https://raw.githubusercontent.com/quincyschurr/machineLearning/master/Lab3/test1'\n",
    "test2_url = 'https://raw.githubusercontent.com/quincyschurr/machineLearning/master/Lab3/test2'\n",
    "import pandas as pd\n",
    "test1 = pd.read_csv(test1_url, delimiter='\\t')\n",
    "test2 = pd.read_csv(test2_url, delimiter='\\t')\n",
    "test2.columns = ['id', 'review']\n",
    "test_data = test1.append(test2, ignore_index=True)\n",
    "\n",
    "\n",
    "train1_url = 'https://raw.githubusercontent.com/quincyschurr/machineLearning/master/Lab3/train1'\n",
    "train2_url = 'https://raw.githubusercontent.com/quincyschurr/machineLearning/master/Lab3/train2'\n",
    "import pandas as pd\n",
    "train1 = pd.read_csv(train1_url, delimiter='\\t')\n",
    "train2 = pd.read_csv(train2_url, delimiter='\\t')\n",
    "train2.columns = ['id', 'sentiment', 'review']\n",
    "train_data = train1.append(train2, ignore_index=True)\n",
    "\n"
   ]
  },
  {
   "cell_type": "code",
   "execution_count": 1,
   "metadata": {
    "collapsed": true
   },
   "outputs": [],
   "source": [
    "import tensorflow as tf\n",
    "from tensorflow.contrib import learn"
   ]
  },
  {
   "cell_type": "code",
   "execution_count": 12,
   "metadata": {
    "collapsed": false
   },
   "outputs": [
    {
     "name": "stdout",
     "output_type": "stream",
     "text": [
      "Five medical students Kevin Bacon David Labraccio William Baldwin Dr Joe Hurley Oliver Platt Randy Steckle Julia Roberts Dr Rachel Mannus Kiefer Sutherland Nelson experiment with clandestine near death  afterlife experiences researching for medical  personal enlightenment One by one each medical students heart is stopped then revivedUnder temporary death spells each experiences bizarre visions including forgotten childhood memories Their flashbacks are like childrens nightmares The revived students are disturbed by remembering regretful acts they had committed or had done against them As they experience afterlife they bring real life experiences back into the present As they continue to experiment their remembrances dramatically intensify so much so some are physically overcome Thus they probe  transcend deeper into the deathafterlife experiences attempting to find a cureEven though the DVD was released in 2007 this motion picture was released in 1990 Therefore Kevin Bacon William Baldwin Julia Roberts  Kiefer Sutherland were in the early stages of their adult acting careers Besides the plot being extremely intriguing the suspense building to a dramatic climax  the script being tight  convincing all of the young actors make Flatliners what is now an allstar cult semiscifi suspense Who knew 17 years ago that the film careers of this young group of actors would skyrocket I suspect that director Joel Schumacher did\n"
     ]
    }
   ],
   "source": [
    "test_data['review'].replace(regex=True,inplace=True,to_replace=r'<br \\/>',value=r'')\n",
    "test_data['review'].replace(regex=True,inplace=True,to_replace=r'[.,\\\\/|#!$%\\^&\\*;:{}=\\-_\\'~()\\?\"]',value=r'')\n",
    "print(test_data.ix[9].review)"
   ]
  }
 ],
 "metadata": {
  "anaconda-cloud": {},
  "kernelspec": {
   "display_name": "Python [Root]",
   "language": "python",
   "name": "Python [Root]"
  },
  "language_info": {
   "codemirror_mode": {
    "name": "ipython",
    "version": 3
   },
   "file_extension": ".py",
   "mimetype": "text/x-python",
   "name": "python",
   "nbconvert_exporter": "python",
   "pygments_lexer": "ipython3",
   "version": "3.5.2"
  }
 },
 "nbformat": 4,
 "nbformat_minor": 0
}

{
 "cells": [
  {
   "cell_type": "markdown",
   "metadata": {},
   "source": [
    "# Machine Learning Lab 2"
   ]
  },
  {
   "cell_type": "markdown",
   "metadata": {},
   "source": [
    "### Eric Johnson & Quincy Schurr"
   ]
  },
  {
   "cell_type": "markdown",
   "metadata": {},
   "source": [
    "#### Overview\n",
    "The dataset that we will be using for this lab is called Lahman's Baseball Database. The data is comprised of 24 tables that describe a variety of baseball statistics for players from 1871 through the 2015 season. For this lab, we will be selecting a prediction task for this dataset and evaluate several different prediction algorithms on the dataset. We will be optimizing the parameters through the tuning of hyper-parameters and then will create a measure from this prediction and conclude our findings.\n",
    "\n",
    "The purpose of this data set is for fun and for learning. The dataset has been made available so that baseball fans can analyze player performance and so that baseball statisticians can view player performance and look for correlations in the player statistics. This is helpful for baseball teams looking to use their budget to acquire the best players available at the cheapest cost. There is a book, based on a true story about the Oakland Athletic's team, about the team using this same process to gain an advantage over their competition by buying lesser known, high-quality players for cheap. The book is called Moneyball. If there was a correlation or predictive aspect to what we visualized then it could be useful to baseball teams looking to advance their program in order to get more wins.\n",
    "\n",
    "The documentation for this data set can be found at the following link: http://seanlahman.com/files/database/readme2014.txt\n",
    "\n",
    "For this lab, we have decided to determine the quality of a baseball player. We will do this by analyzing a player's previous season performance in order to predict if a player will make the season's All Star team. We will classify players as a \"yes\" or \"no\" in terms of making it to next season's All Star team.\n"
   ]
  },
  {
   "cell_type": "code",
   "execution_count": null,
   "metadata": {
    "collapsed": false
   },
   "outputs": [],
   "source": [
    "#import statements\n",
    "import plotly\n",
    "import plotly.graph_objs as go\n",
    "import plotly.plotly as py\n",
    "plotly.offline.init_notebook_mode() # run at the start of every notebook\n",
    "py.sign_in('qschurr', '926ny2havn')\n",
    "\n",
    "import numpy as np\n",
    "import pandas as pd\n",
    "import seaborn as sns\n",
    "\n",
    "from sklearn.linear_model import LinearRegression\n",
    "\n",
    "import matplotlib.pyplot as plt\n",
    "import warnings\n",
    "warnings.simplefilter('ignore', DeprecationWarning)\n",
    "%matplotlib inline"
   ]
  },
  {
   "cell_type": "markdown",
   "metadata": {},
   "source": [
    "To start, we will import the tables we are going to use from github. No post season tables will be used in this analysis since not every team has the opportunity to play extra games. The Master table contains all the demographic data for a player, including their name, playerID, date of birth, hometown, height, and weight. The Salary table contains the year, team, league, and salary for every player (noted by their playerID). The Batting table shows all batting statistics for a player during a single season, included games, at bats, runs, hits, doubles, triples, homeruns, runs batted in, etc. The Pitching table contaings statistics about the pitchers wins and losses, games, innings pitched, earned run average, hits and walks allowed, strike outs, etc. The Fielding table contains statistics for both offense and defense of a player, such as double plays, stolen base, errors, assists, wild pitch, etc."
   ]
  },
  {
   "cell_type": "code",
   "execution_count": null,
   "metadata": {
    "collapsed": false
   },
   "outputs": [],
   "source": [
    "# bring in table data from github\n",
    "master = pd.read_csv('https://raw.githubusercontent.com/chadwickbureau/baseballdatabank/master/core/Master.csv')\n",
    "batting = pd.read_csv('https://raw.githubusercontent.com/chadwickbureau/baseballdatabank/master/core/Batting.csv')\n",
    "pitching = pd.read_csv('https://raw.githubusercontent.com/chadwickbureau/baseballdatabank/master/core/Pitching.csv')\n",
    "fielding = pd.read_csv('https://raw.githubusercontent.com/chadwickbureau/baseballdatabank/master/core/Fielding.csv')\n",
    "allstar = pd.read_csv('https://raw.githubusercontent.com/chadwickbureau/baseballdatabank/master/core/AllstarFull.csv')"
   ]
  },
  {
   "cell_type": "markdown",
   "metadata": {
    "collapsed": true
   },
   "source": [
    "We will be excluding all null values within each table. This is because we feel that imputing the data would lead to false conclusions as it may not be an accurate representation of player performance since some players are better than average and some worse. The exception with this is the All Star table, we will just be dropping the last column of starting position, becuase there are some players who make the team who do not start, for which there is no value in that column. We have also decided to drop the GP column. The GP column is a binary count for whether or not the player actually played in the game. For this lab, we do not need to know if they played the allstar game, it's enough to know that they made the team. We also need to rename the yearID column for the All Star table because we will be comparing it to previous year's performance which also have the same column identifier. "
   ]
  },
  {
   "cell_type": "code",
   "execution_count": null,
   "metadata": {
    "collapsed": false
   },
   "outputs": [],
   "source": [
    "master.drop(['nameGiven', 'retroID', 'bbrefID', 'deathYear', 'deathMonth', 'deathDay', 'deathCountry', 'deathState', 'deathCity'], axis = 1, inplace=True)\n",
    "batting.drop(['CS', 'IBB', 'HBP', 'SH', 'SF', 'GIDP', 'stint', 'SB'], axis=1, inplace=True)\n",
    "fielding.drop(['stint', 'PB', 'WP', 'SB', 'CS', 'ZR', 'GS', 'InnOuts'], axis=1, inplace=True)\n",
    "fielding.head()"
   ]
  },
  {
   "cell_type": "code",
   "execution_count": null,
   "metadata": {
    "collapsed": false
   },
   "outputs": [],
   "source": [
    "### Drop NA's when building training and testing datasets\n",
    "#master.dropna(inplace=True)\n",
    "#batting.dropna(inplace=True)\n",
    "#pitching.dropna(inplace=True)\n",
    "#fielding.dropna(inplace=True)\n",
    "allstar.rename(columns={'yearID' : 'asYear'}, inplace=True)\n",
    "allstar.drop(['startingPos', 'gameID', 'GP', 'gameNum'], axis=1, inplace=True)"
   ]
  },
  {
   "cell_type": "code",
   "execution_count": null,
   "metadata": {
    "collapsed": false
   },
   "outputs": [],
   "source": [
    "#pulling only data from allstar games in 1933-1949 to see if we can pull out predictors to base our predictions on.\n",
    "#must drop null values to only get the rows within the year bounds\n",
    "'''allstar33_49 = allstar.where((1933 <= allstar['asYear']) & (allstar['asYear'] <= 1949)).dropna()\n",
    "start_pred = allstar33_49.merge(master, on='playerID')\n",
    "start_pred.head()'''"
   ]
  },
  {
   "cell_type": "code",
   "execution_count": null,
   "metadata": {
    "collapsed": false
   },
   "outputs": [],
   "source": [
    "'''floatList = ['birthYear', 'birthMonth', 'birthDay', 'asYear']\n",
    "for x in floatList:\n",
    "    start_pred[x] = start_pred[x].astype(int)'''"
   ]
  },
  {
   "cell_type": "code",
   "execution_count": null,
   "metadata": {
    "collapsed": false
   },
   "outputs": [],
   "source": [
    "def createTrainingData(start_year=1933, end_year=1949):\n",
    "    allstar_in_range = allstar.where((1933 <= allstar['asYear']) & (allstar['asYear'] <= 1949)).dropna()\n",
    "    \n",
    "    #Stats for all players other than pitchers during this range\n",
    "    batting_train = batting.where((start_year <= batting['yearID']) & (batting['yearID'] <= end_year)).dropna()\n",
    "    fielding_train = fielding.where((start_year <= fielding['yearID']) & (fielding['yearID'] <= end_year)).dropna()\n",
    "    fielding_train.rename(columns={'G' : 'GF'}, inplace=True)\n",
    "    #master_train = batting_train.merge(fielding_train, on=['playerID', 'yearID', 'teamID', 'lgID'])\n",
    "    master_train = master.merge(batting_train.merge(fielding_train, on=['playerID', 'yearID', 'teamID', 'lgID']), on='playerID')\n",
    "    master_train = master_train[master_train.POS != 'P']\n",
    "    master_train.drop(['birthYear', 'birthMonth', 'birthDay', 'birthState', 'birthCity', 'nameFirst', 'nameLast'], axis=1, inplace=True)    \n",
    "    \n",
    "    return master_train, allstar_in_range"
   ]
  },
  {
   "cell_type": "code",
   "execution_count": null,
   "metadata": {
    "collapsed": true
   },
   "outputs": [],
   "source": [
    "def createTestData(start_year=1950, end_year=2016):\n",
    "    allstar_end = allstar.where((1950 <= allstar['asYear']) & (allstar['asYear'] <= 2016)).dropna()\n",
    "    #Stats for all players other than pitchers during this range\n",
    "    batting_test = batting.where((start_year <= batting['yearID']) & (batting['yearID'] <= end_year)).dropna()\n",
    "    fielding_test = fielding.where((start_year <= fielding['yearID']) & (fielding['yearID'] <= end_year)).dropna()\n",
    "    fielding_test.rename(columns={'G' : 'GF'}, inplace=True)\n",
    "    #master_train = batting_train.merge(fielding_train, on=['playerID', 'yearID', 'teamID', 'lgID'])\n",
    "    master_test = master.merge(batting_test.merge(fielding_test, on=['playerID', 'yearID', 'teamID', 'lgID']), on='playerID')\n",
    "    master_test = master_test[master_test.POS != 'P']\n",
    "    master_test.drop(['birthYear', 'birthMonth', 'birthDay', 'birthState', 'birthCity', 'nameFirst', 'nameLast'], axis=1, inplace=True)   \n",
    "    \n",
    "    return master_test"
   ]
  },
  {
   "cell_type": "code",
   "execution_count": null,
   "metadata": {
    "collapsed": false
   },
   "outputs": [],
   "source": [
    "'''start_year=1933\n",
    "end_year=1949\n",
    "batting_train = batting.where((start_year <= batting['yearID']) & (batting['yearID'] <= end_year)).dropna()\n",
    "fielding_train = fielding.where((start_year <= fielding['yearID']) & (fielding['yearID'] <= end_year)).dropna()\n",
    "fielding_train.rename(columns={'G' : 'GF'}, inplace=True)\n",
    "master_train = master.merge(batting_train.merge(fielding_train, on=['playerID', 'yearID', 'teamID', 'lgID']), on='playerID')\n",
    "master_train = master_train[master_train.POS != 'P']\n",
    "master_train.drop(['birthYear', 'birthMonth', 'birthDay', 'birthState', 'birthCity', 'nameFirst', 'nameLast'], axis=1, inplace=True)'''  \n",
    "\n",
    "master_train, allstar_in_range = createTrainingData()\n",
    "#master_train.head()\n",
    "#allstar_in_range.head()\n",
    "master_train['AS'] = 0\n",
    "\n",
    "y = 0\n",
    "for x, row in master_train.iterrows():\n",
    "    for y, row2 in allstar_in_range.iterrows():\n",
    "        if row2['playerID'] == row['playerID']:\n",
    "            print('TRUE')\n",
    "        "
   ]
  },
  {
   "cell_type": "code",
   "execution_count": null,
   "metadata": {
    "collapsed": false
   },
   "outputs": [],
   "source": [
    "master_test = createTestData()\n",
    "master_test.head()"
   ]
  },
  {
   "cell_type": "code",
   "execution_count": null,
   "metadata": {
    "collapsed": true
   },
   "outputs": [],
   "source": []
  }
 ],
 "metadata": {
  "anaconda-cloud": {},
  "kernelspec": {
   "display_name": "Python [Root]",
   "language": "python",
   "name": "Python [Root]"
  },
  "language_info": {
   "codemirror_mode": {
    "name": "ipython",
    "version": 3
   },
   "file_extension": ".py",
   "mimetype": "text/x-python",
   "name": "python",
   "nbconvert_exporter": "python",
   "pygments_lexer": "ipython3",
   "version": "3.5.2"
  }
 },
 "nbformat": 4,
 "nbformat_minor": 0
}
